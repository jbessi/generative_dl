{
 "cells": [
  {
   "cell_type": "code",
   "execution_count": 1,
   "metadata": {},
   "outputs": [
    {
     "name": "stderr",
     "output_type": "stream",
     "text": [
      "Using TensorFlow backend.\n"
     ]
    },
    {
     "name": "stdout",
     "output_type": "stream",
     "text": [
      "Downloading data from https://s3.amazonaws.com/text-datasets/nietzsche.txt\n",
      "557056/600901 [==========================>...] - ETA: 0sCorpus length: 600893\n"
     ]
    }
   ],
   "source": [
    "import keras\n",
    "import numpy as np\n",
    "\n",
    "# downloading the text file\n",
    "path = keras.utils.get_file(\n",
    "    'nietzsche.txt',\n",
    "    origin='https://s3.amazonaws.com/text-datasets/nietzsche.txt')\n",
    "text = open(path).read().lower()\n",
    "print('Corpus length:', len(text))"
   ]
  },
  {
   "cell_type": "code",
   "execution_count": 2,
   "metadata": {},
   "outputs": [
    {
     "name": "stdout",
     "output_type": "stream",
     "text": [
      "Number of sequences: 200278\n",
      "Unique characters: 57\n",
      "Vectorization...\n"
     ]
    }
   ],
   "source": [
    "#vectorizing sequences of data using one-hot-encoding and prepare array of corresponding targets\n",
    "\n",
    "# Length of extracted character sequences\n",
    "maxlen = 60\n",
    "\n",
    "# We sample a new sequence every `step` characters\n",
    "step = 3\n",
    "\n",
    "# This holds our extracted sequences\n",
    "sentences = []\n",
    "\n",
    "# This holds the targets (the follow-up characters)\n",
    "next_chars = []\n",
    "\n",
    "for i in range(0, len(text) - maxlen, step):\n",
    "    sentences.append(text[i: i + maxlen])\n",
    "    next_chars.append(text[i + maxlen])\n",
    "print('Number of sequences:', len(sentences))\n",
    "\n",
    "# List of unique characters in the corpus\n",
    "chars = sorted(list(set(text)))\n",
    "print('Unique characters:', len(chars))\n",
    "# Dictionary mapping unique characters to their index in `chars`\n",
    "char_indices = dict((char, chars.index(char)) for char in chars)\n",
    "\n",
    "# Next, one-hot encode the characters into binary arrays.\n",
    "print('Vectorization...')\n",
    "x = np.zeros((len(sentences), maxlen, len(chars)), dtype=np.bool)\n",
    "y = np.zeros((len(sentences), len(chars)), dtype=np.bool)\n",
    "for i, sentence in enumerate(sentences):\n",
    "    for t, char in enumerate(sentence):\n",
    "        x[i, t, char_indices[char]] = 1\n",
    "    y[i, char_indices[next_chars[i]]] = 1"
   ]
  },
  {
   "cell_type": "code",
   "execution_count": 3,
   "metadata": {},
   "outputs": [
    {
     "name": "stderr",
     "output_type": "stream",
     "text": [
      "WARNING: Logging before flag parsing goes to stderr.\n",
      "W0716 08:52:25.585372 140601544877824 deprecation_wrapper.py:118] From /home/joel/anaconda3/envs/tensorflow-gpu-new/lib/python3.5/site-packages/keras/backend/tensorflow_backend.py:58: The name tf.get_default_graph is deprecated. Please use tf.compat.v1.get_default_graph instead.\n",
      "\n",
      "W0716 08:52:25.590938 140601544877824 deprecation_wrapper.py:118] From /home/joel/anaconda3/envs/tensorflow-gpu-new/lib/python3.5/site-packages/keras/backend/tensorflow_backend.py:442: The name tf.placeholder is deprecated. Please use tf.compat.v1.placeholder instead.\n",
      "\n",
      "W0716 08:52:25.595276 140601544877824 deprecation_wrapper.py:118] From /home/joel/anaconda3/envs/tensorflow-gpu-new/lib/python3.5/site-packages/keras/backend/tensorflow_backend.py:3543: The name tf.random_uniform is deprecated. Please use tf.random.uniform instead.\n",
      "\n",
      "W0716 08:52:25.689426 140601544877824 deprecation.py:506] From /home/joel/anaconda3/envs/tensorflow-gpu-new/lib/python3.5/site-packages/keras/backend/tensorflow_backend.py:1188: calling reduce_sum_v1 (from tensorflow.python.ops.math_ops) with keep_dims is deprecated and will be removed in a future version.\n",
      "Instructions for updating:\n",
      "keep_dims is deprecated, use keepdims instead\n"
     ]
    }
   ],
   "source": [
    "# defining the network, a single LSTM followed by a dense for next character prediction\n",
    "\n",
    "from keras import layers\n",
    "\n",
    "model = keras.models.Sequential()\n",
    "model.add(layers.LSTM(128, input_shape=(maxlen, len(chars))))\n",
    "model.add(layers.Dense(len(chars), activation='softmax'))"
   ]
  },
  {
   "cell_type": "code",
   "execution_count": 4,
   "metadata": {},
   "outputs": [
    {
     "name": "stderr",
     "output_type": "stream",
     "text": [
      "W0716 08:52:28.969547 140601544877824 deprecation_wrapper.py:118] From /home/joel/anaconda3/envs/tensorflow-gpu-new/lib/python3.5/site-packages/keras/optimizers.py:711: The name tf.train.Optimizer is deprecated. Please use tf.compat.v1.train.Optimizer instead.\n",
      "\n",
      "W0716 08:52:28.976996 140601544877824 deprecation_wrapper.py:118] From /home/joel/anaconda3/envs/tensorflow-gpu-new/lib/python3.5/site-packages/keras/backend/tensorflow_backend.py:2759: The name tf.log is deprecated. Please use tf.math.log instead.\n",
      "\n"
     ]
    }
   ],
   "source": [
    "# compiling the model using categorical_crossentropy (since targets are one hot encoded)\n",
    "\n",
    "optimizer = keras.optimizers.RMSprop(lr=0.01)\n",
    "model.compile(loss='categorical_crossentropy', optimizer=optimizer)"
   ]
  },
  {
   "cell_type": "code",
   "execution_count": 5,
   "metadata": {},
   "outputs": [],
   "source": [
    "# defining a function to sample new text using reweighted distribution\n",
    "\n",
    "def sample(preds, temperature=1.0):\n",
    "    preds = np.asarray(preds).astype('float64')\n",
    "    preds = np.log(preds) / temperature\n",
    "    exp_preds = np.exp(preds)\n",
    "    preds = exp_preds / np.sum(exp_preds)\n",
    "    probas = np.random.multinomial(1, preds, 1)\n",
    "    return np.argmax(probas)"
   ]
  },
  {
   "cell_type": "code",
   "execution_count": 6,
   "metadata": {},
   "outputs": [
    {
     "name": "stderr",
     "output_type": "stream",
     "text": [
      "W0716 08:52:33.832783 140601544877824 deprecation.py:323] From /home/joel/anaconda3/envs/tensorflow-gpu-new/lib/python3.5/site-packages/tensorflow_core/python/ops/math_grad.py:1251: add_dispatch_support.<locals>.wrapper (from tensorflow.python.ops.array_ops) is deprecated and will be removed in a future version.\n",
      "Instructions for updating:\n",
      "Use tf.where in 2.0, which has the same broadcast rule as np.where\n"
     ]
    },
    {
     "name": "stdout",
     "output_type": "stream",
     "text": [
      "epoch 1\n"
     ]
    },
    {
     "name": "stderr",
     "output_type": "stream",
     "text": [
      "W0716 08:52:34.340679 140601544877824 deprecation.py:506] From /home/joel/anaconda3/envs/tensorflow-gpu-new/lib/python3.5/site-packages/keras/backend/tensorflow_backend.py:625: calling Constant.__init__ (from tensorflow.python.ops.init_ops) with dtype is deprecated and will be removed in a future version.\n",
      "Instructions for updating:\n",
      "Call initializer instance with the dtype argument instead of passing it to the constructor\n",
      "W0716 08:52:34.353957 140601544877824 deprecation_wrapper.py:118] From /home/joel/anaconda3/envs/tensorflow-gpu-new/lib/python3.5/site-packages/keras/backend/tensorflow_backend.py:899: The name tf.assign_add is deprecated. Please use tf.compat.v1.assign_add instead.\n",
      "\n"
     ]
    },
    {
     "name": "stdout",
     "output_type": "stream",
     "text": [
      "Epoch 1/1\n",
      "200278/200278 [==============================] - 92s - loss: 1.9979    \n",
      "--- Generating with seed: \"gloomy aspect, like a cloud over-charged with interrogative \"\n",
      "------ temperature: 0.2\n",
      "gloomy aspect, like a cloud over-charged with interrogative is the dees of the soul the senses and some to be be more to the self-conded to be the has a senses and a some the sense of the cares and some the self-and the same of the allowity of the self-conded and the senses and destent of the senses and destroness of the self--the self--the senses and always of the senses and some the same of the to the self--and the belief the self--the senses and a some \n",
      "------ temperature: 0.5\n",
      "to the self--and the belief the self--the senses and a some the soul the defered and so pression of say, for the self-conceution\n",
      "of has every be not be freed allophy, is for the spirit in the fact of the instincted and hand read the action of the soul and to be the sensess of the worded and something the condution of the senses: the formed and agore of the soul of the intrusts of his does the self-conscount of some to men the old so offer the offer the sen\n",
      "------ temperature: 1.0\n",
      "-conscount of some to men the old so offer the offer the sensably schoocationion, a men to the dor. ortes dayves, aver-forwen but for be destooly of experient s hom of vistoin which himself.cudm scretisies and trughtly\" in . just amout were in that the self-tund sinful the spoen\n",
      "olagion: orr rave dobbecisely,--insevery trais, hours allity is.\n",
      "theerce alwor of which every:\n",
      "\n",
      ", becowners of been who ofour of oble, the streverd:--in its srusic, of low realus: \n",
      "------ temperature: 1.2\n",
      "ofour of oble, the streverd:--in its srusic, of low realus: in that\n",
      "i \n",
      "ruvolaked belont: of stillomation of at omeciateed\n",
      "all tie dingror; has of it formely, is a sobeligion as howvel mis--orsentquare in\n",
      "perdight pares, in it be riars; powertsy for news golthly, a horn alfar, sich contury\n",
      "intertaiin, aste tho\n",
      "haweci wisherispiol truth, not is alwans as to nean asuse,ms frrea.turedge: with .\n",
      "eort thereus touchmryandsed w. is the uss\n",
      "mraduleful, nowselfs end\n",
      "epoch 2\n",
      "Epoch 1/1\n",
      "200278/200278 [==============================] - 90s - loss: 1.6412    \n",
      "--- Generating with seed: \"one.\" the noble\n",
      "and brave who think thus are the furthest re\"\n",
      "------ temperature: 0.2\n",
      "one.\" the noble\n",
      "and brave who think thus are the furthest rest of the stands of the stands of the stands the strengness of the stands the states and for the stands of the stands of the self and more in the stands of the stand the stands the stands the same the same the stand the surely the stands of the stands the stands the stands of the stands of the strengness of the same the stands the state the stands of the standent the stands of the standent the sta\n",
      "------ temperature: 0.5\n",
      "he stands of the standent the stands of the standent the state the philosophers of the course from the consequence of the consideration of the maltical\n",
      "the soul as the chanaranten man the state the strengle a sure to a feeling of the stall the consider the our fine and men of men as the mest at a consequence of the stands statest it the world there is fact the surely and who of the seems of the supers are at life the same for the stand, and so it who are b\n",
      "------ temperature: 1.0\n",
      "pers are at life the same for the stand, and so it who are be a sceaksless, of howew as and the europe them to nn macifulle--as the sand.\n",
      "\n",
      "117. the most tappess more detardly are nor uthwithmes and the laverpe word distination rufters, as ble far, almt bugton act have politid sharely was spenses man we mikejoinaris have is esores of skepisity, in the edechansogices oune apowellon ratifry to dulul nacuenefism its dearces as lensm frabowed greater natulnaing\n",
      "------ temperature: 1.2\n",
      "nacuenefism its dearces as lensm frabowed greater natulnaing of the state germann of redienespth and perhon virif that it nature\n",
      ", tamily thore the culturedor\n",
      "seuphen of aftapherfywithin: it the mild that sridedty eord arisoithkurankrde are ander\n",
      "so hoxarr to free coman teresly, strp: which we\n",
      "sengeral therely godness eemor so and\n",
      "a imn paisonest the as which dively gleerile, suff known. by \"eeved (ir,luric\n",
      ", after on freeem of rilivol pithes and tual), ou\n",
      "epoch 3\n",
      "Epoch 1/1\n",
      "200278/200278 [==============================] - 91s - loss: 1.5427    \n",
      "--- Generating with seed: \"t varied origin, such as so-called positivism at present thr\"\n",
      "------ temperature: 0.2\n",
      "t varied origin, such as so-called positivism at present through the present and man of the propess of the end in the present and the man and the contraded and as all the more of the great the present and man in the sense of the present of the same strengther of the preseat and present and the present and the bring to the present of the present and all the present of the modest of the same all the all the present and superficial and man is the same the sam\n",
      "------ temperature: 0.5\n",
      " all the present and superficial and man is the same the samit of coming that the truth the replied in the suppision of the knew reading of the man of the instinct, ever the considered is almost intellecture of the fact to our hately them the same as the same every man for the sense of all the sacrify and soul servicion, the forment to the belief the\n",
      "philosophyy woman of the more\n",
      "causa the man he distingly in the same with the consequence of likely\n",
      "interpo\n",
      "------ temperature: 1.0\n",
      "distingly in the same with the consequence of likely\n",
      "interposingics formtofully,\n",
      "order. the whose\n",
      "swickmental patished supertain.--that also them humble?s\n",
      "werrres light, is impere parifur, in the truee has\n",
      "to aptroed as the\n",
      "goested, and wit and chillanied and weques; nevertogether\n",
      "to ga; after to\n",
      "ho \"knowledge, itself take fact to them impassion, now man,\n",
      "and humaniad,, is namefred cless on every currle of which -estimed with\n",
      "valsogic tasble itself ups he \n",
      "------ temperature: 1.2\n",
      "currle of which -estimed with\n",
      "valsogic tasble itself ups he kingtener conally\n",
      "been prorpel ourge, it has he one\n",
      "conblems before is moral ummen nothing of their great orden, is instance of the livemasitiased sboreind alihe the\n",
      "tapashest nistandent of theomost philosoace.--theseasal\n",
      "side, indeagation-with anticoub: men waving . is adraded more way, allithty being nowing and fa=k apartby unthribing necess\" have ne\"ce take\n",
      "formation for the dwelited\n",
      "i   such\n",
      "f\n",
      "epoch 4\n",
      "Epoch 1/1\n",
      "200278/200278 [==============================] - 91s - loss: 1.4974    \n",
      "--- Generating with seed: \"for \"great men\" and marvelous animals, for\n",
      "the sake of whom \"\n",
      "------ temperature: 0.2\n",
      "for \"great men\" and marvelous animals, for\n",
      "the sake of whom also and the same and always the same the same and all the same and also the same to be the same to be and all the same and the same the same and and always the same and the same all the same to the words of the same strength and passions of the same and the same to a present to the same more and the germanity of the soul and also the same and some the same and and the presentes to be any all the \n",
      "------ temperature: 0.5\n",
      "e and some the same and and the presentes to be any all the same always these still with one would do ades and \"cannot of the words in them the most conception to conceedical all really and the seems to the individual always conception and formold and the ways, the presence,\n",
      "and the respected to the highest and antige and decessions of the\n",
      "strictest intermordite and distundame and the self-same and good labering to the soul and and destinity in the somethi\n",
      "------ temperature: 1.0\n",
      "d good labering to the soul and and destinity in the something usly both forde's\n",
      "dreading reswament, in his\n",
      "regattful\n",
      "more willful\n",
      "ifst\"--good jud nature weaking distance for all premeterain of the , did this\n",
      "stricgled indianhing of the goesher, to good, in some wordsus, are\n",
      "askertable and p uund of prematerist from appossumes and to have in invincg instance, with a proved revery, of \"precoust for intermentatian the alsor? which but not courses tran are ac\n",
      "------ temperature: 1.2\n",
      " intermentatian the alsor? which but not courses tran are accmounderably trainder, althism or coulding it and above and will\n",
      "southing \n",
      "quition with nour richly distus\n"
     ]
    },
    {
     "name": "stdout",
     "output_type": "stream",
     "text": [
      "an in these most the sar that\n",
      "agreeable to blensin-\n",
      "is persapp into the hglatt actives of terns, it\n",
      "oldersounding doithings of circrefundances desiany, are believe i hit our conccivine the -treed, because to german not their \"moder momerant cimulavagry--and\n",
      "moral conjection\n",
      "vatues fri, men-id\n",
      "epoch 5\n",
      "Epoch 1/1\n",
      "200278/200278 [==============================] - 91s - loss: 1.4725    \n",
      "--- Generating with seed: \"ith in the most cultivated\n",
      "circles, so where nature is conce\"\n",
      "------ temperature: 0.2\n",
      "ith in the most cultivated\n",
      "circles, so where nature is concealle the same all the same all the same the same and and the present the same the same the same and and and and and in the experience of the same all the same and interpretation of the same man and concealed the same and and in the same the condition of the same all the same the present, and the same the explession of the same all the same and and the condition of the same the same and all the sam\n",
      "------ temperature: 0.5\n",
      "e and and the condition of the same the same and all the same agreeable concealed the concealed the greek in the sense of the soul the revention is all the under the evil of the perplepious to be higher of the same\n",
      "point of interporpolition of the general and in the mong of the standly envorance of the same the recultion beance of the condition of the senseected, the call the world the hold of the develops of the condition of the sufferrom, as a persols ha\n",
      "------ temperature: 1.0\n",
      " develops of the condition of the sufferrom, as a persols handxiting of accood, here that the . a norsules, again of him-capacity to unganity in all\n",
      "dissument have rebelt in the place towardel (betwell an all itself who be foothing (groes\n",
      "much of the condition, habetebs be . un. the preventionally frield yaick for a 1jum to devele, unfor course, you an husted forced the perso sad\" in\n",
      "a   privitation too help-diselficishs (requires a\n",
      "terlain the fistirance.\n",
      "------ temperature: 1.2\n",
      "on too help-diselficishs (requires a\n",
      "terlain the fistirance. prigng, as thoudg under those\n",
      "deed peint haud; thus, fall ancient-action, the dervagoil whoevers laights of critiths, hiphing,,\n",
      "threy one of philosophicre away and\n",
      "hlightswindolation are\n",
      "dest fact the ounder poirths which our nation almost dange; find well througt conceals of aglibeet developlefic\n",
      "humal holt and prefered, weicg ofir with ord of terlys weach formphingia culturatably a thed vioiff \n",
      "epoch 6\n",
      "Epoch 1/1\n",
      "200278/200278 [==============================] - 91s - loss: 1.4519    \n",
      "--- Generating with seed: \" \"ideas\" has\n",
      "complacently betrayed itself thereby. a moralit\"\n",
      "------ temperature: 0.2\n",
      " \"ideas\" has\n",
      "complacently betrayed itself thereby. a morality of the spiritually to the spirit of the spiritually the spiritually to be distrust of the changes to the spiritually to the sense to the spiritually the spiritually the are sough the sense of the spiritually and the presumpte the contempt of the spiritually be a propections of the sense of the means of the consideration of the sense of the such a propections of the spiritually to the spiritually\n",
      "------ temperature: 0.5\n",
      "the such a propections of the spiritually to the spiritually the spiritual many centuries is with the emotion of the dearogion of the propected in every consideration of the spiritually and has learn being it is all the germany have been as a deadenced, and something the problem of a heart in a tedilation of which the distrass and will be a man like his appearaded the deep and the man the precisely to you exercisignal dolanged and conscience of the spiritu\n",
      "------ temperature: 1.0\n",
      "y to you exercisignal dolanged and conscience of the spiritual\n",
      "tronest liquents, they philosophigg the ner the , propicially over do hithevelly rewild may presumplation of truth,tary of \"progroor manner-the questions.\n",
      "\n",
      "sistence\n",
      "of platoous of the\n",
      "cultion. treat malow.v\n",
      "olisters of the genera"
     ]
    },
    {
     "name": "stderr",
     "output_type": "stream",
     "text": [
      "/home/joel/anaconda3/envs/tensorflow-gpu-new/lib/python3.5/site-packages/ipykernel_launcher.py:5: RuntimeWarning: divide by zero encountered in log\n",
      "  \"\"\"\n"
     ]
    },
    {
     "name": "stdout",
     "output_type": "stream",
     "text": [
      "tion strict to stroke and foriely--we canter feeling upon intemptrens to certaincy had differe at this nour emen to it seet with should it be demard.i only a precisely,\n",
      "------ temperature: 1.2\n",
      "emen to it seet with should it be demard.i only a precisely, cquelulad jeason tacwing, dung oy hinsil wact hap to quarated, has vigew--that ahon his very findiam , weidnough of many makesit (wanton; from this class ot, between knotter to good he modent for to no non, he besuevery ondorate in men who sec almost will colousleten, in on the suftent opposited\n",
      "life begon, invalual and othatics and over this wholenest, an crince spirit, a  say as he\n",
      "puce, humant\n",
      "epoch 7\n",
      "Epoch 1/1\n",
      "200278/200278 [==============================] - 91s - loss: 1.4391    \n",
      "--- Generating with seed: \"oking from above, grows\n",
      "up within us gradually and in the sa\"\n",
      "------ temperature: 0.2\n",
      "oking from above, grows\n",
      "up within us gradually and in the same and the same of the suffering of the strong to the same to the conditions and the same and the same and the same and the same who have has a threaths of the spirit and the stroke and for the spirit and the will to be and the world the conditions and spirit and the surrections of the spirit of the same stroke and the same and the stroked and an interestion of the same and all the profound in the\n",
      "------ temperature: 0.5\n",
      "d and an interestion of the same and all the profound in the all its such all man who and something as a thricted in the most false and the really to fals of the losical andary for all things to all the man is the properting and manifes of the regards the whole to them a soul, in the art, sense this woman of the senses the trok of the power and that the most selies and acquireding by the state of the spirit and the consciously or and the german and in the \n",
      "------ temperature: 1.0\n",
      "the spirit and the consciously or and the german and in the doors of \"the wroth and fore\n",
      "the conduct we makes of a propenses, \"i just science. a\n",
      "some impossibillty of thoor more, out, on these common\n",
      "ulner,\n",
      "whether thises acceptive the intole of sym"
     ]
    },
    {
     "name": "stderr",
     "output_type": "stream",
     "text": [
      "W0716 09:04:59.523061 140601544877824 deprecation_wrapper.py:118] From /home/joel/anaconda3/envs/tensorflow-gpu-new/lib/python3.5/site-packages/tensorflow_estimator/python/estimator/api/_v1/estimator/__init__.py:10: The name tf.estimator.inputs is deprecated. Please use tf.compat.v1.estimator.inputs instead.\n",
      "\n"
     ]
    },
    {
     "ename": "KeyboardInterrupt",
     "evalue": "",
     "output_type": "error",
     "traceback": [
      "\u001b[0;31m---------------------------------------------------------------------------\u001b[0m",
      "\u001b[0;31mKeyboardInterrupt\u001b[0m                         Traceback (most recent call last)",
      "\u001b[0;32m<ipython-input-6-d412385a42b3>\u001b[0m in \u001b[0;36m<module>\u001b[0;34m\u001b[0m\n\u001b[1;32m     26\u001b[0m                 \u001b[0msampled\u001b[0m\u001b[0;34m[\u001b[0m\u001b[0;36m0\u001b[0m\u001b[0;34m,\u001b[0m \u001b[0mt\u001b[0m\u001b[0;34m,\u001b[0m \u001b[0mchar_indices\u001b[0m\u001b[0;34m[\u001b[0m\u001b[0mchar\u001b[0m\u001b[0;34m]\u001b[0m\u001b[0;34m]\u001b[0m \u001b[0;34m=\u001b[0m \u001b[0;36m1.\u001b[0m\u001b[0;34m\u001b[0m\u001b[0m\n\u001b[1;32m     27\u001b[0m \u001b[0;34m\u001b[0m\u001b[0m\n\u001b[0;32m---> 28\u001b[0;31m             \u001b[0mpreds\u001b[0m \u001b[0;34m=\u001b[0m \u001b[0mmodel\u001b[0m\u001b[0;34m.\u001b[0m\u001b[0mpredict\u001b[0m\u001b[0;34m(\u001b[0m\u001b[0msampled\u001b[0m\u001b[0;34m,\u001b[0m \u001b[0mverbose\u001b[0m\u001b[0;34m=\u001b[0m\u001b[0;36m0\u001b[0m\u001b[0;34m)\u001b[0m\u001b[0;34m[\u001b[0m\u001b[0;36m0\u001b[0m\u001b[0;34m]\u001b[0m\u001b[0;34m\u001b[0m\u001b[0m\n\u001b[0m\u001b[1;32m     29\u001b[0m             \u001b[0mnext_index\u001b[0m \u001b[0;34m=\u001b[0m \u001b[0msample\u001b[0m\u001b[0;34m(\u001b[0m\u001b[0mpreds\u001b[0m\u001b[0;34m,\u001b[0m \u001b[0mtemperature\u001b[0m\u001b[0;34m)\u001b[0m\u001b[0;34m\u001b[0m\u001b[0m\n\u001b[1;32m     30\u001b[0m             \u001b[0mnext_char\u001b[0m \u001b[0;34m=\u001b[0m \u001b[0mchars\u001b[0m\u001b[0;34m[\u001b[0m\u001b[0mnext_index\u001b[0m\u001b[0;34m]\u001b[0m\u001b[0;34m\u001b[0m\u001b[0m\n",
      "\u001b[0;32m~/anaconda3/envs/tensorflow-gpu-new/lib/python3.5/site-packages/keras/models.py\u001b[0m in \u001b[0;36mpredict\u001b[0;34m(self, x, batch_size, verbose)\u001b[0m\n\u001b[1;32m    911\u001b[0m         \u001b[0;32mif\u001b[0m \u001b[0;32mnot\u001b[0m \u001b[0mself\u001b[0m\u001b[0;34m.\u001b[0m\u001b[0mbuilt\u001b[0m\u001b[0;34m:\u001b[0m\u001b[0;34m\u001b[0m\u001b[0m\n\u001b[1;32m    912\u001b[0m             \u001b[0mself\u001b[0m\u001b[0;34m.\u001b[0m\u001b[0mbuild\u001b[0m\u001b[0;34m(\u001b[0m\u001b[0;34m)\u001b[0m\u001b[0;34m\u001b[0m\u001b[0m\n\u001b[0;32m--> 913\u001b[0;31m         \u001b[0;32mreturn\u001b[0m \u001b[0mself\u001b[0m\u001b[0;34m.\u001b[0m\u001b[0mmodel\u001b[0m\u001b[0;34m.\u001b[0m\u001b[0mpredict\u001b[0m\u001b[0;34m(\u001b[0m\u001b[0mx\u001b[0m\u001b[0;34m,\u001b[0m \u001b[0mbatch_size\u001b[0m\u001b[0;34m=\u001b[0m\u001b[0mbatch_size\u001b[0m\u001b[0;34m,\u001b[0m \u001b[0mverbose\u001b[0m\u001b[0;34m=\u001b[0m\u001b[0mverbose\u001b[0m\u001b[0;34m)\u001b[0m\u001b[0;34m\u001b[0m\u001b[0m\n\u001b[0m\u001b[1;32m    914\u001b[0m \u001b[0;34m\u001b[0m\u001b[0m\n\u001b[1;32m    915\u001b[0m     \u001b[0;32mdef\u001b[0m \u001b[0mpredict_on_batch\u001b[0m\u001b[0;34m(\u001b[0m\u001b[0mself\u001b[0m\u001b[0;34m,\u001b[0m \u001b[0mx\u001b[0m\u001b[0;34m)\u001b[0m\u001b[0;34m:\u001b[0m\u001b[0;34m\u001b[0m\u001b[0m\n",
      "\u001b[0;32m~/anaconda3/envs/tensorflow-gpu-new/lib/python3.5/site-packages/keras/engine/training.py\u001b[0m in \u001b[0;36mpredict\u001b[0;34m(self, x, batch_size, verbose, steps)\u001b[0m\n\u001b[1;32m   1711\u001b[0m         \u001b[0mf\u001b[0m \u001b[0;34m=\u001b[0m \u001b[0mself\u001b[0m\u001b[0;34m.\u001b[0m\u001b[0mpredict_function\u001b[0m\u001b[0;34m\u001b[0m\u001b[0m\n\u001b[1;32m   1712\u001b[0m         return self._predict_loop(f, ins, batch_size=batch_size,\n\u001b[0;32m-> 1713\u001b[0;31m                                   verbose=verbose, steps=steps)\n\u001b[0m\u001b[1;32m   1714\u001b[0m \u001b[0;34m\u001b[0m\u001b[0m\n\u001b[1;32m   1715\u001b[0m     def train_on_batch(self, x, y,\n",
      "\u001b[0;32m~/anaconda3/envs/tensorflow-gpu-new/lib/python3.5/site-packages/keras/engine/training.py\u001b[0m in \u001b[0;36m_predict_loop\u001b[0;34m(self, f, ins, batch_size, verbose, steps)\u001b[0m\n\u001b[1;32m   1267\u001b[0m                 \u001b[0;32melse\u001b[0m\u001b[0;34m:\u001b[0m\u001b[0;34m\u001b[0m\u001b[0m\n\u001b[1;32m   1268\u001b[0m                     \u001b[0mins_batch\u001b[0m \u001b[0;34m=\u001b[0m \u001b[0m_slice_arrays\u001b[0m\u001b[0;34m(\u001b[0m\u001b[0mins\u001b[0m\u001b[0;34m,\u001b[0m \u001b[0mbatch_ids\u001b[0m\u001b[0;34m)\u001b[0m\u001b[0;34m\u001b[0m\u001b[0m\n\u001b[0;32m-> 1269\u001b[0;31m                 \u001b[0mbatch_outs\u001b[0m \u001b[0;34m=\u001b[0m \u001b[0mf\u001b[0m\u001b[0;34m(\u001b[0m\u001b[0mins_batch\u001b[0m\u001b[0;34m)\u001b[0m\u001b[0;34m\u001b[0m\u001b[0m\n\u001b[0m\u001b[1;32m   1270\u001b[0m                 \u001b[0;32mif\u001b[0m \u001b[0;32mnot\u001b[0m \u001b[0misinstance\u001b[0m\u001b[0;34m(\u001b[0m\u001b[0mbatch_outs\u001b[0m\u001b[0;34m,\u001b[0m \u001b[0mlist\u001b[0m\u001b[0;34m)\u001b[0m\u001b[0;34m:\u001b[0m\u001b[0;34m\u001b[0m\u001b[0m\n\u001b[1;32m   1271\u001b[0m                     \u001b[0mbatch_outs\u001b[0m \u001b[0;34m=\u001b[0m \u001b[0;34m[\u001b[0m\u001b[0mbatch_outs\u001b[0m\u001b[0;34m]\u001b[0m\u001b[0;34m\u001b[0m\u001b[0m\n",
      "\u001b[0;32m~/anaconda3/envs/tensorflow-gpu-new/lib/python3.5/site-packages/keras/backend/tensorflow_backend.py\u001b[0m in \u001b[0;36m__call__\u001b[0;34m(self, inputs)\u001b[0m\n\u001b[1;32m   2271\u001b[0m         updated = session.run(self.outputs + [self.updates_op],\n\u001b[1;32m   2272\u001b[0m                               \u001b[0mfeed_dict\u001b[0m\u001b[0;34m=\u001b[0m\u001b[0mfeed_dict\u001b[0m\u001b[0;34m,\u001b[0m\u001b[0;34m\u001b[0m\u001b[0m\n\u001b[0;32m-> 2273\u001b[0;31m                               **self.session_kwargs)\n\u001b[0m\u001b[1;32m   2274\u001b[0m         \u001b[0;32mreturn\u001b[0m \u001b[0mupdated\u001b[0m\u001b[0;34m[\u001b[0m\u001b[0;34m:\u001b[0m\u001b[0mlen\u001b[0m\u001b[0;34m(\u001b[0m\u001b[0mself\u001b[0m\u001b[0;34m.\u001b[0m\u001b[0moutputs\u001b[0m\u001b[0;34m)\u001b[0m\u001b[0;34m]\u001b[0m\u001b[0;34m\u001b[0m\u001b[0m\n\u001b[1;32m   2275\u001b[0m \u001b[0;34m\u001b[0m\u001b[0m\n",
      "\u001b[0;32m~/anaconda3/envs/tensorflow-gpu-new/lib/python3.5/site-packages/tensorflow_core/python/client/session.py\u001b[0m in \u001b[0;36mrun\u001b[0;34m(self, fetches, feed_dict, options, run_metadata)\u001b[0m\n\u001b[1;32m    939\u001b[0m     \u001b[0;32mtry\u001b[0m\u001b[0;34m:\u001b[0m\u001b[0;34m\u001b[0m\u001b[0m\n\u001b[1;32m    940\u001b[0m       result = self._run(None, fetches, feed_dict, options_ptr,\n\u001b[0;32m--> 941\u001b[0;31m                          run_metadata_ptr)\n\u001b[0m\u001b[1;32m    942\u001b[0m       \u001b[0;32mif\u001b[0m \u001b[0mrun_metadata\u001b[0m\u001b[0;34m:\u001b[0m\u001b[0;34m\u001b[0m\u001b[0m\n\u001b[1;32m    943\u001b[0m         \u001b[0mproto_data\u001b[0m \u001b[0;34m=\u001b[0m \u001b[0mtf_session\u001b[0m\u001b[0;34m.\u001b[0m\u001b[0mTF_GetBuffer\u001b[0m\u001b[0;34m(\u001b[0m\u001b[0mrun_metadata_ptr\u001b[0m\u001b[0;34m)\u001b[0m\u001b[0;34m\u001b[0m\u001b[0m\n",
      "\u001b[0;32m~/anaconda3/envs/tensorflow-gpu-new/lib/python3.5/site-packages/tensorflow_core/python/client/session.py\u001b[0m in \u001b[0;36m_run\u001b[0;34m(self, handle, fetches, feed_dict, options, run_metadata)\u001b[0m\n\u001b[1;32m   1162\u001b[0m     \u001b[0;32mif\u001b[0m \u001b[0mfinal_fetches\u001b[0m \u001b[0;32mor\u001b[0m \u001b[0mfinal_targets\u001b[0m \u001b[0;32mor\u001b[0m \u001b[0;34m(\u001b[0m\u001b[0mhandle\u001b[0m \u001b[0;32mand\u001b[0m \u001b[0mfeed_dict_tensor\u001b[0m\u001b[0;34m)\u001b[0m\u001b[0;34m:\u001b[0m\u001b[0;34m\u001b[0m\u001b[0m\n\u001b[1;32m   1163\u001b[0m       results = self._do_run(handle, final_targets, final_fetches,\n\u001b[0;32m-> 1164\u001b[0;31m                              feed_dict_tensor, options, run_metadata)\n\u001b[0m\u001b[1;32m   1165\u001b[0m     \u001b[0;32melse\u001b[0m\u001b[0;34m:\u001b[0m\u001b[0;34m\u001b[0m\u001b[0m\n\u001b[1;32m   1166\u001b[0m       \u001b[0mresults\u001b[0m \u001b[0;34m=\u001b[0m \u001b[0;34m[\u001b[0m\u001b[0;34m]\u001b[0m\u001b[0;34m\u001b[0m\u001b[0m\n",
      "\u001b[0;32m~/anaconda3/envs/tensorflow-gpu-new/lib/python3.5/site-packages/tensorflow_core/python/client/session.py\u001b[0m in \u001b[0;36m_do_run\u001b[0;34m(self, handle, target_list, fetch_list, feed_dict, options, run_metadata)\u001b[0m\n\u001b[1;32m   1340\u001b[0m     \u001b[0;32mif\u001b[0m \u001b[0mhandle\u001b[0m \u001b[0;32mis\u001b[0m \u001b[0;32mNone\u001b[0m\u001b[0;34m:\u001b[0m\u001b[0;34m\u001b[0m\u001b[0m\n\u001b[1;32m   1341\u001b[0m       return self._do_call(_run_fn, feeds, fetches, targets, options,\n\u001b[0;32m-> 1342\u001b[0;31m                            run_metadata)\n\u001b[0m\u001b[1;32m   1343\u001b[0m     \u001b[0;32melse\u001b[0m\u001b[0;34m:\u001b[0m\u001b[0;34m\u001b[0m\u001b[0m\n\u001b[1;32m   1344\u001b[0m       \u001b[0;32mreturn\u001b[0m \u001b[0mself\u001b[0m\u001b[0;34m.\u001b[0m\u001b[0m_do_call\u001b[0m\u001b[0;34m(\u001b[0m\u001b[0m_prun_fn\u001b[0m\u001b[0;34m,\u001b[0m \u001b[0mhandle\u001b[0m\u001b[0;34m,\u001b[0m \u001b[0mfeeds\u001b[0m\u001b[0;34m,\u001b[0m \u001b[0mfetches\u001b[0m\u001b[0;34m)\u001b[0m\u001b[0;34m\u001b[0m\u001b[0m\n",
      "\u001b[0;32m~/anaconda3/envs/tensorflow-gpu-new/lib/python3.5/site-packages/tensorflow_core/python/client/session.py\u001b[0m in \u001b[0;36m_do_call\u001b[0;34m(self, fn, *args)\u001b[0m\n\u001b[1;32m   1346\u001b[0m   \u001b[0;32mdef\u001b[0m \u001b[0m_do_call\u001b[0m\u001b[0;34m(\u001b[0m\u001b[0mself\u001b[0m\u001b[0;34m,\u001b[0m \u001b[0mfn\u001b[0m\u001b[0;34m,\u001b[0m \u001b[0;34m*\u001b[0m\u001b[0margs\u001b[0m\u001b[0;34m)\u001b[0m\u001b[0;34m:\u001b[0m\u001b[0;34m\u001b[0m\u001b[0m\n\u001b[1;32m   1347\u001b[0m     \u001b[0;32mtry\u001b[0m\u001b[0;34m:\u001b[0m\u001b[0;34m\u001b[0m\u001b[0m\n\u001b[0;32m-> 1348\u001b[0;31m       \u001b[0;32mreturn\u001b[0m \u001b[0mfn\u001b[0m\u001b[0;34m(\u001b[0m\u001b[0;34m*\u001b[0m\u001b[0margs\u001b[0m\u001b[0;34m)\u001b[0m\u001b[0;34m\u001b[0m\u001b[0m\n\u001b[0m\u001b[1;32m   1349\u001b[0m     \u001b[0;32mexcept\u001b[0m \u001b[0merrors\u001b[0m\u001b[0;34m.\u001b[0m\u001b[0mOpError\u001b[0m \u001b[0;32mas\u001b[0m \u001b[0me\u001b[0m\u001b[0;34m:\u001b[0m\u001b[0;34m\u001b[0m\u001b[0m\n\u001b[1;32m   1350\u001b[0m       \u001b[0mmessage\u001b[0m \u001b[0;34m=\u001b[0m \u001b[0mcompat\u001b[0m\u001b[0;34m.\u001b[0m\u001b[0mas_text\u001b[0m\u001b[0;34m(\u001b[0m\u001b[0me\u001b[0m\u001b[0;34m.\u001b[0m\u001b[0mmessage\u001b[0m\u001b[0;34m)\u001b[0m\u001b[0;34m\u001b[0m\u001b[0m\n",
      "\u001b[0;32m~/anaconda3/envs/tensorflow-gpu-new/lib/python3.5/site-packages/tensorflow_core/python/client/session.py\u001b[0m in \u001b[0;36m_run_fn\u001b[0;34m(feed_dict, fetch_list, target_list, options, run_metadata)\u001b[0m\n\u001b[1;32m   1331\u001b[0m       \u001b[0mself\u001b[0m\u001b[0;34m.\u001b[0m\u001b[0m_extend_graph\u001b[0m\u001b[0;34m(\u001b[0m\u001b[0;34m)\u001b[0m\u001b[0;34m\u001b[0m\u001b[0m\n\u001b[1;32m   1332\u001b[0m       return self._call_tf_sessionrun(options, feed_dict, fetch_list,\n\u001b[0;32m-> 1333\u001b[0;31m                                       target_list, run_metadata)\n\u001b[0m\u001b[1;32m   1334\u001b[0m \u001b[0;34m\u001b[0m\u001b[0m\n\u001b[1;32m   1335\u001b[0m     \u001b[0;32mdef\u001b[0m \u001b[0m_prun_fn\u001b[0m\u001b[0;34m(\u001b[0m\u001b[0mhandle\u001b[0m\u001b[0;34m,\u001b[0m \u001b[0mfeed_dict\u001b[0m\u001b[0;34m,\u001b[0m \u001b[0mfetch_list\u001b[0m\u001b[0;34m)\u001b[0m\u001b[0;34m:\u001b[0m\u001b[0;34m\u001b[0m\u001b[0m\n",
      "\u001b[0;32m~/anaconda3/envs/tensorflow-gpu-new/lib/python3.5/site-packages/tensorflow_core/python/client/session.py\u001b[0m in \u001b[0;36m_call_tf_sessionrun\u001b[0;34m(self, options, feed_dict, fetch_list, target_list, run_metadata)\u001b[0m\n\u001b[1;32m   1419\u001b[0m     return tf_session.TF_SessionRun_wrapper(self._session, options, feed_dict,\n\u001b[1;32m   1420\u001b[0m                                             \u001b[0mfetch_list\u001b[0m\u001b[0;34m,\u001b[0m \u001b[0mtarget_list\u001b[0m\u001b[0;34m,\u001b[0m\u001b[0;34m\u001b[0m\u001b[0m\n\u001b[0;32m-> 1421\u001b[0;31m                                             run_metadata)\n\u001b[0m\u001b[1;32m   1422\u001b[0m \u001b[0;34m\u001b[0m\u001b[0m\n\u001b[1;32m   1423\u001b[0m   \u001b[0;32mdef\u001b[0m \u001b[0m_call_tf_sessionprun\u001b[0m\u001b[0;34m(\u001b[0m\u001b[0mself\u001b[0m\u001b[0;34m,\u001b[0m \u001b[0mhandle\u001b[0m\u001b[0;34m,\u001b[0m \u001b[0mfeed_dict\u001b[0m\u001b[0;34m,\u001b[0m \u001b[0mfetch_list\u001b[0m\u001b[0;34m)\u001b[0m\u001b[0;34m:\u001b[0m\u001b[0;34m\u001b[0m\u001b[0m\n",
      "\u001b[0;31mKeyboardInterrupt\u001b[0m: "
     ]
    }
   ],
   "source": [
    "# defining the text-generation loop\n",
    "\n",
    "import random\n",
    "import sys\n",
    "\n",
    "for epoch in range(1, 60):\n",
    "    print('epoch', epoch)\n",
    "    # Fit the model for 1 epoch on the available training data\n",
    "    model.fit(x, y,\n",
    "              batch_size=128,\n",
    "              epochs=1)\n",
    "\n",
    "    # Select a text seed at random\n",
    "    start_index = random.randint(0, len(text) - maxlen - 1)\n",
    "    generated_text = text[start_index: start_index + maxlen]\n",
    "    print('--- Generating with seed: \"' + generated_text + '\"')\n",
    "\n",
    "    for temperature in [0.2, 0.5, 1.0, 1.2]:\n",
    "        print('------ temperature:', temperature)\n",
    "        sys.stdout.write(generated_text)\n",
    "\n",
    "        # We generate 400 characters\n",
    "        for i in range(400):\n",
    "            sampled = np.zeros((1, maxlen, len(chars)))\n",
    "            for t, char in enumerate(generated_text):\n",
    "                sampled[0, t, char_indices[char]] = 1.\n",
    "\n",
    "            preds = model.predict(sampled, verbose=0)[0]\n",
    "            next_index = sample(preds, temperature)\n",
    "            next_char = chars[next_index]\n",
    "\n",
    "            generated_text += next_char\n",
    "            generated_text = generated_text[1:]\n",
    "\n",
    "            sys.stdout.write(next_char)\n",
    "            sys.stdout.flush()\n",
    "        print()"
   ]
  },
  {
   "cell_type": "code",
   "execution_count": null,
   "metadata": {},
   "outputs": [],
   "source": []
  }
 ],
 "metadata": {
  "kernelspec": {
   "display_name": "Python 3",
   "language": "python",
   "name": "python3"
  },
  "language_info": {
   "codemirror_mode": {
    "name": "ipython",
    "version": 3
   },
   "file_extension": ".py",
   "mimetype": "text/x-python",
   "name": "python",
   "nbconvert_exporter": "python",
   "pygments_lexer": "ipython3",
   "version": "3.5.2"
  }
 },
 "nbformat": 4,
 "nbformat_minor": 2
}
